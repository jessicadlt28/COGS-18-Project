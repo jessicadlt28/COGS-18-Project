{
 "cells": [
  {
   "cell_type": "markdown",
   "id": "12cd1082",
   "metadata": {},
   "source": [
    "## COGS 18 Coding Project\n",
    "\n",
    "By: Jessica De La Torre\n",
    "\n",
    "Hello! \n",
    "For my project, I wanted to create a chatbot that assists with the issue that is **INDECISIVENESS**, specifically when choosing a film to watch! I felt that a chatbot would be a great format to approach this because it imitates what it may be like to discuss movie options with another person, except now we have a chatbot that is attempting to help. My chatbot is called **\"Filmsical\"**, and she first collects the movie category you would like, then she asks what specific genre from that category, and from there she asks fun questions that apply to some movie options as a way to recommend a movie you may like! Currently, the movie recommendations _are limited_, but they are some great movies I feel represent the diverse categories.\n",
    "\n",
    "\n",
    "\n",
    "\n",
    "Also, I would like to emphasize that I genuinely tried my best and I hope it shows. This is my first time working with python (any coding actually), and this topic project was one that I had fun doing, but definitely struggled with. You will notice that when it comes to the test file, I was unable to get it to run properly. No matter hat I tried, I was unable to properly import the functions. Regardless, I tried to show Filmsical's greatness, and hopefully it is able to help you choose an enjoyable movie! "
   ]
  },
  {
   "cell_type": "code",
   "execution_count": 1,
   "id": "91e8a2d4",
   "metadata": {},
   "outputs": [],
   "source": [
    "poss_greet = ['Hi', 'Hey', 'Hello', 'hi', 'hey', 'hello']\n",
    "\n",
    "def chat_greet():\n",
    "    \"\"\"Introduces Filmsical and the movie categories, and allows the user to greet it.\"\"\"\n",
    "    \n",
    "    greet = input('SAY HI (ᵔᴥᵔ) :\\t')\n",
    "    out_greet = None\n",
    "    \n",
    "    if greet in poss_greet:\n",
    "        input_greet = greet\n",
    "        print('FILMSICAL: Hi, my name is Filmsical and I am here to help you choose a movie! In the box, type in whether you want a\\n (1) \"feel-good\" movie,\\n (2) \"crying today\" movie,\\n (3) \"shook to my core\" movie')\n",
    "        \n",
    "\n",
    "    "
   ]
  },
  {
   "cell_type": "code",
   "execution_count": 2,
   "id": "5b953c4e",
   "metadata": {},
   "outputs": [],
   "source": [
    "def lets_chat():\n",
    "    \"\"\"main function to run chatbot; Filmsical. Flimsical helps people that struggle with indecisiveness \n",
    "    and struggle to decide what movie they'd like to watch.\"\"\"\n",
    "    \n",
    "    chat_greet()\n",
    "    part_2 = input('1, 2, or 3? :\\t')\n",
    "\n",
    "    \n",
    "    done = False\n",
    "    while not done:\n",
    "    \n",
    "        if part_2 == '1':\n",
    "            \n",
    "            print(\"FILMSICAL: Yay! Let's get more specific now. Choose from the following ~feel-good~ genres:\\n comedy,\\n romance,\\n or musical\")\n",
    "            part_3 = input('FEEL GOOD GENRE :\\t')\n",
    "        \n",
    "            import feel_good\n",
    "            feel_good.feel_good(part_3)\n",
    "            break\n",
    "            \n",
    "        elif part_2 == '2':\n",
    "            print(\"FILMSICAL: Awe! Let's get more specific now. Choose from the following ~crying-today~ genres:\\n drama,\\n documentary,\\n bittersweet\")\n",
    "            part_4 = input('CRYING GENRE :\\t')\n",
    "            \n",
    "            import crying_today\n",
    "            crying_today.crying_today(part_4)\n",
    "            break\n",
    "            \n",
    "        elif part_2 == '3': \n",
    "            print(\"FILMSICAL: OH! Let's get more specific now. Choose from the following ~shock evoking~ genres:\\n thriller,\\n dystopian,\\n or mystery\")\n",
    "            part_5 = input('SHOCK GENRE :\\t')\n",
    "            \n",
    "            import shook_core\n",
    "            shook_core.shook_core(part_5)\n",
    "            break\n",
    "\n",
    "        else:\n",
    "            print('Hmmm, seems like that category is not in my system. Pls choose from the available options! ฅ^•ﻌ•^ฅ')\n",
    "            part_2 = input('1, 2, 3...ONLY! :\\t')\n",
    "            if part_2 in ['1', '2', '3']:\n",
    "                done = False \n",
    "            "
   ]
  },
  {
   "cell_type": "code",
   "execution_count": 3,
   "id": "ccce081e",
   "metadata": {},
   "outputs": [
    {
     "name": "stdout",
     "output_type": "stream",
     "text": [
      "SAY HI (ᵔᴥᵔ) :\thi\n",
      "FILMSICAL: Hi, my name is Filmsical and I am here to help you choose a movie! In the box, type in whether you want a\n",
      " (1) \"feel-good\" movie,\n",
      " (2) \"crying today\" movie,\n",
      " (3) \"shook to my core\" movie\n",
      "1, 2, or 3? :\t3\n",
      "FILMSICAL: OH! Let's get more specific now. Choose from the following ~shock evoking~ genres:\n",
      " thriller,\n",
      " dystopian,\n",
      " or mystery\n",
      "SHOCK GENRE :\tthriller\n",
      "FILMSICAL: Let's get some more info on your movie likes! Pls reply to the questions with a 'Y' or 'N'. \n",
      "FILMSICAL: Do you want a film with plot twists that cover themes of relationships and grief?\n",
      "Y OR N :\tn\n",
      "FILMSICAL: OK. How about a film with a shocking and unexpected ending?\n",
      "Y OR N :\tn\n",
      "FILMSICAL: OK. How about a film that starts off quite slow then becomes more intense?\n",
      "Y OR N :\tn\n",
      "FILMSICAL: OK. Seems like this may not be the right genre for you, bye.\n"
     ]
    }
   ],
   "source": [
    "lets_chat()"
   ]
  },
  {
   "cell_type": "code",
   "execution_count": 4,
   "id": "4115ab20",
   "metadata": {},
   "outputs": [
    {
     "ename": "SyntaxError",
     "evalue": "invalid syntax (test_lets_chat.py, line 4)",
     "output_type": "error",
     "traceback": [
      "Traceback \u001b[0;36m(most recent call last)\u001b[0m:\n",
      "  File \u001b[1;32m\"/opt/conda/lib/python3.9/site-packages/IPython/core/interactiveshell.py\"\u001b[0m, line \u001b[1;32m3441\u001b[0m, in \u001b[1;35mrun_code\u001b[0m\n    exec(code_obj, self.user_global_ns, self.user_ns)\n",
      "\u001b[0;36m  File \u001b[0;32m\"/tmp/ipykernel_2566/228189181.py\"\u001b[0;36m, line \u001b[0;32m1\u001b[0;36m, in \u001b[0;35m<module>\u001b[0;36m\u001b[0m\n\u001b[0;31m    import test_lets_chat\u001b[0m\n",
      "\u001b[0;36m  File \u001b[0;32m\"/home/jedelato/MyFinalProject/test_lets_chat.py\"\u001b[0;36m, line \u001b[0;32m4\u001b[0m\n\u001b[0;31m    %run ProjectNotebook_FINAL.ipynb\u001b[0m\n\u001b[0m    ^\u001b[0m\n\u001b[0;31mSyntaxError\u001b[0m\u001b[0;31m:\u001b[0m invalid syntax\n"
     ]
    }
   ],
   "source": [
    "import test_lets_chat\n",
    "test_lets_chat.test_lets_chat()\n",
    "!pytest\n",
    "\n",
    "#I genuinely struggled trying to figure out the issue and how to properly import the functions; I couldn't \n",
    "#make it to OH because of my timing/other finals work. "
   ]
  }
 ],
 "metadata": {
  "kernelspec": {
   "display_name": "Python 3 (clean)",
   "language": "python",
   "name": "python3_clean"
  },
  "language_info": {
   "codemirror_mode": {
    "name": "ipython",
    "version": 3
   },
   "file_extension": ".py",
   "mimetype": "text/x-python",
   "name": "python",
   "nbconvert_exporter": "python",
   "pygments_lexer": "ipython3",
   "version": "3.9.5"
  }
 },
 "nbformat": 4,
 "nbformat_minor": 5
}
